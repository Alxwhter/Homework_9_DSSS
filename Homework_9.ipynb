{
  "nbformat": 4,
  "nbformat_minor": 0,
  "metadata": {
    "colab": {
      "provenance": [],
      "gpuType": "T4",
      "authorship_tag": "ABX9TyMQ4er+V6WlXIjMVEIs7eOw",
      "include_colab_link": true
    },
    "kernelspec": {
      "name": "python3",
      "display_name": "Python 3"
    },
    "language_info": {
      "name": "python"
    },
    "accelerator": "GPU"
  },
  "cells": [
    {
      "cell_type": "markdown",
      "metadata": {
        "id": "view-in-github",
        "colab_type": "text"
      },
      "source": [
        "<a href=\"https://colab.research.google.com/github/Alxwhter/Homework_9_DSSS/blob/main/Homework_9.ipynb\" target=\"_parent\"><img src=\"https://colab.research.google.com/assets/colab-badge.svg\" alt=\"Open In Colab\"/></a>"
      ]
    },
    {
      "cell_type": "code",
      "execution_count": null,
      "metadata": {
        "id": "fG63iO2huXwa"
      },
      "outputs": [],
      "source": [
        "!pip install transformers llama-cpp-python\n",
        "!pip install python-telegram-bot\n",
        "!pip install torch transformers accelerate\n",
        "\n",
        "\n"
      ]
    },
    {
      "cell_type": "code",
      "source": [
        "from telegram import Update\n",
        "from telegram.ext import CallbackContext, CommandHandler, MessageHandler, ApplicationBuilder, ContextTypes, Application\n",
        "import telegram.ext.filters as filters\n",
        "import torch\n",
        "import nest_asyncio\n",
        "\n",
        "nest_asyncio.apply()\n",
        "\n",
        "from transformers import AutoTokenizer, AutoModelForCausalLM\n",
        "import torch\n",
        "\n",
        "model_name = \"TinyLlama/TinyLlama-1.1B-Chat-v1.0\"\n",
        "tokenizer = AutoTokenizer.from_pretrained(model_name)\n",
        "model = AutoModelForCausalLM.from_pretrained(model_name)\n",
        "\n",
        "device = torch.device(\"cuda\" if torch.cuda.is_available() else \"cpu\")\n",
        "model.to(device)\n",
        "\n",
        "\n",
        "async def start(update: Update, context: CallbackContext) -> None:\n",
        "    \"\"\"Handle the /start command.\"\"\"\n",
        "    welcome_message = (\n",
        "        \"Welcome to the Alxwhte-AI-Bot\\n\"\n",
        "        \"Please send me a message and I will try to help you.\"\n",
        "    )\n",
        "    await update.message.reply_text(welcome_message)\n",
        "\n",
        "async def handle_message(update: Update, context: CallbackContext) -> None:\n",
        "    \"\"\"Process the user message.\"\"\"\n",
        "    user_input = update.message.text\n",
        "    # TODO: IHier soll die Magie passieren\n",
        "    prompt = user_input\n",
        "    inputs = tokenizer(prompt, return_tensors=\"pt\").to(device)\n",
        "\n",
        "    outputs = model.generate(**inputs, max_length=130, temperature=0.2, top_k=50)\n",
        "    print(tokenizer.decode(outputs[0], skip_special_tokens=True))\n",
        "    await update.message.reply_text(tokenizer.decode(outputs[0], skip_special_tokens=True))\n",
        "\n",
        "\n",
        "if __name__ == '__main__':\n",
        "    print(\"Starting bot...\")\n",
        "    API_TOKEN = \"7345970091:AAEBbNxMtyHf8lrwxD3ZFiGgoie04AFq01Q\"\n",
        "    application = Application.builder().token(API_TOKEN).build()\n",
        "\n",
        "    # Register handlers\n",
        "    application.add_handler(CommandHandler(\"start\", start))\n",
        "    application.add_handler(MessageHandler(filters.TEXT, handle_message))\n",
        "\n",
        "    # Start the bot\n",
        "    print(\"Polling..\")\n",
        "    await application.run_polling(poll_interval=3)"
      ],
      "metadata": {
        "id": "K_O8JG6Bu-o_"
      },
      "execution_count": null,
      "outputs": []
    },
    {
      "cell_type": "code",
      "source": [
        "# Just for testing the LLM\n",
        "\n",
        "from transformers import AutoTokenizer, AutoModelForCausalLM\n",
        "import torch\n",
        "\n",
        "model_name = \"TinyLlama/TinyLlama-1.1B-Chat-v1.0\"\n",
        "tokenizer = AutoTokenizer.from_pretrained(model_name)\n",
        "model = AutoModelForCausalLM.from_pretrained(model_name)\n",
        "\n",
        "device = torch.device(\"cuda\" if torch.cuda.is_available() else \"cpu\")\n",
        "model.to(device)\n",
        "\n",
        "prompt = \"Tell me Informations about turtles.\"\n",
        "inputs = tokenizer(prompt, return_tensors=\"pt\").to(device)\n",
        "\n",
        "outputs = model.generate(**inputs, max_length=130, temperature=0.2, top_k=50)\n",
        "print(tokenizer.decode(outputs[0], skip_special_tokens=True))\n",
        "\n"
      ],
      "metadata": {
        "id": "EpsHzpsD_TZL"
      },
      "execution_count": null,
      "outputs": []
    }
  ]
}